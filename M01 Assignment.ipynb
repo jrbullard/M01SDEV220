{
 "cells": [
  {
   "cell_type": "code",
   "execution_count": 3,
   "id": "0ca57c5b-4983-463d-a6de-80969012ff21",
   "metadata": {},
   "outputs": [
    {
     "name": "stdout",
     "output_type": "stream",
     "text": [
      "24.0   24\n"
     ]
    }
   ],
   "source": [
    "seconds_per_hour = 60 * 60\n",
    "seconds_per_day = seconds_per_hour * 24\n",
    "d1 = seconds_per_day / seconds_per_hour\n",
    "d2 = seconds_per_day // seconds_per_hour\n",
    "print(d1, \" \", d2)"
   ]
  },
  {
   "cell_type": "code",
   "execution_count": null,
   "id": "19e653ef-7aae-4ca4-8182-0bee32cfdfbc",
   "metadata": {},
   "outputs": [],
   "source": [
    "#Yes, they matched except for the .0"
   ]
  }
 ],
 "metadata": {
  "kernelspec": {
   "display_name": "Python 3 (ipykernel)",
   "language": "python",
   "name": "python3"
  },
  "language_info": {
   "codemirror_mode": {
    "name": "ipython",
    "version": 3
   },
   "file_extension": ".py",
   "mimetype": "text/x-python",
   "name": "python",
   "nbconvert_exporter": "python",
   "pygments_lexer": "ipython3",
   "version": "3.9.13"
  }
 },
 "nbformat": 4,
 "nbformat_minor": 5
}
